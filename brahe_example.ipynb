{
 "cells": [
  {
   "cell_type": "markdown",
   "metadata": {},
   "source": [
    "# Example Brahe Notebook\n",
    "\n",
    "This is an example notebook on how to use the Brahe library.\n",
    "\n",
    "To get started install the following python packages:\n",
    "\n",
    "```bash\n",
    "pip install git+https://github.com/duncaneddy/brahe.git@master matplotlib ipympl cartopy\n",
    "```"
   ]
  },
  {
   "cell_type": "code",
   "execution_count": 2,
   "metadata": {},
   "outputs": [
    {
     "ename": "ModuleNotFoundError",
     "evalue": "No module named 'brahe'",
     "output_type": "error",
     "traceback": [
      "\u001b[1;31m---------------------------------------------------------------------------\u001b[0m",
      "\u001b[1;31mModuleNotFoundError\u001b[0m                       Traceback (most recent call last)",
      "Cell \u001b[1;32mIn[2], line 14\u001b[0m\n\u001b[0;32m     11\u001b[0m \u001b[38;5;28;01mimport\u001b[39;00m \u001b[38;5;21;01mmatplotlib\u001b[39;00m\u001b[38;5;21;01m.\u001b[39;00m\u001b[38;5;21;01mpyplot\u001b[39;00m \u001b[38;5;28;01mas\u001b[39;00m \u001b[38;5;21;01mplt\u001b[39;00m\n\u001b[0;32m     13\u001b[0m \u001b[38;5;66;03m# Brahe Imports\u001b[39;00m\n\u001b[1;32m---> 14\u001b[0m \u001b[38;5;28;01mimport\u001b[39;00m \u001b[38;5;21;01mbrahe\u001b[39;00m \u001b[38;5;28;01mas\u001b[39;00m \u001b[38;5;21;01mbh\u001b[39;00m\n\u001b[0;32m     15\u001b[0m \u001b[38;5;28;01mimport\u001b[39;00m \u001b[38;5;21;01mbrahe\u001b[39;00m\u001b[38;5;21;01m.\u001b[39;00m\u001b[38;5;21;01mdata_models\u001b[39;00m \u001b[38;5;28;01mas\u001b[39;00m \u001b[38;5;21;01mbdm\u001b[39;00m\n\u001b[0;32m     16\u001b[0m \u001b[38;5;28;01mimport\u001b[39;00m \u001b[38;5;21;01mbrahe\u001b[39;00m\u001b[38;5;21;01m.\u001b[39;00m\u001b[38;5;21;01maccess\u001b[39;00m\u001b[38;5;21;01m.\u001b[39;00m\u001b[38;5;21;01maccess\u001b[39;00m \u001b[38;5;28;01mas\u001b[39;00m \u001b[38;5;21;01mba\u001b[39;00m\n",
      "\u001b[1;31mModuleNotFoundError\u001b[0m: No module named 'brahe'"
     ]
    }
   ],
   "source": [
    "# Here we import our desired packages\n",
    "\n",
    "import warnings\n",
    "import math\n",
    "import numpy as np\n",
    "\n",
    "# Plotting Imports\n",
    "import shapely\n",
    "import cartopy.crs as ccrs\n",
    "import cartopy.geodesic\n",
    "import matplotlib.pyplot as plt\n",
    "\n",
    "# Brahe Imports\n",
    "import brahe as bh\n",
    "import brahe.data_models as bdm\n",
    "import brahe.access.access as ba\n",
    "\n",
    "# Cartopy generates a bunch of warnings that are not useful so we suppress them\n",
    "\n",
    "APPLIED_FILTER_WARNINGS = False\n",
    "\n",
    "def filter_cartopy_warnings():\n",
    "    global APPLIED_FILTER_WARNINGS\n",
    "\n",
    "    if not APPLIED_FILTER_WARNINGS:\n",
    "        warnings.filterwarnings(\"ignore\", message=\"Approximating coordinate system\")\n",
    "        APPLIED_FILTER_WARNINGS = True\n",
    "\n",
    "filter_cartopy_warnings()"
   ]
  },
  {
   "cell_type": "code",
   "execution_count": 4,
   "metadata": {},
   "outputs": [
    {
     "ename": "NameError",
     "evalue": "name 'bh' is not defined",
     "output_type": "error",
     "traceback": [
      "\u001b[1;31m---------------------------------------------------------------------------\u001b[0m",
      "\u001b[1;31mNameError\u001b[0m                                 Traceback (most recent call last)",
      "Cell \u001b[1;32mIn[4], line 49\u001b[0m\n\u001b[0;32m     45\u001b[0m         x_eci[\u001b[38;5;241m3\u001b[39m:\u001b[38;5;241m6\u001b[39m] \u001b[38;5;241m=\u001b[39m (rot )\u001b[38;5;241m.\u001b[39mT \u001b[38;5;241m@\u001b[39m (v_ecef \u001b[38;5;241m+\u001b[39m bh\u001b[38;5;241m.\u001b[39mutils\u001b[38;5;241m.\u001b[39mfcross(omega_vec, r_ecef))\n\u001b[0;32m     47\u001b[0m     \u001b[38;5;28;01mreturn\u001b[39;00m x_eci\n\u001b[1;32m---> 49\u001b[0m \u001b[43mbh\u001b[49m\u001b[38;5;241m.\u001b[39mframes\u001b[38;5;241m.\u001b[39msECEFtoECI \u001b[38;5;241m=\u001b[39m sECEFtoECIpatch\n",
      "\u001b[1;31mNameError\u001b[0m: name 'bh' is not defined"
     ]
    }
   ],
   "source": [
    "# Here we define the Moneky-patch for the ECI to ECEF conversion\n",
    "\n",
    "# Monkey Patch ECI -> ECEF transformation due to segfault in upstream dependency\n",
    "# This changes the transformation to only consider the Earth's rotation and not the polar motion, precession, or nutation\n",
    "# This is a simplification but is sufficient for this use case\n",
    "def sECEFtoECIpatch(epc, x):\n",
    "    \"\"\"Transforms an Earth fixed state into an Inertial state\n",
    "\n",
    "    The transformation is accomplished using the IAU 2006/2000A, CIO-based\n",
    "    theory using classical angles. The method as described in section 5.5 of\n",
    "    the SOFA C transformation cookbook.\n",
    "\n",
    "    Args:\n",
    "        epc (Epoch): Epoch of transformation\n",
    "        x (np.ndarray): Earth-fixed state (position, velocity) [*m*; *m/s*]\n",
    "\n",
    "    Returns:\n",
    "        x_ecef (np.ndarray): Inertial state (position, velocity)\n",
    "    \"\"\"\n",
    "\n",
    "    # Ensure input is array-like\n",
    "    x = np.asarray(x)\n",
    "\n",
    "    # Set state variable size\n",
    "    dim_x = len(x)\n",
    "    x_eci = np.zeros((dim_x,))\n",
    "\n",
    "    # Extract State Components\n",
    "    r_ecef = x[0:3]\n",
    "\n",
    "    if dim_x >= 6:\n",
    "        v_ecef = x[3:6]\n",
    "\n",
    "    # Compute Sequential Transformation Matrices\n",
    "    rot = bh.earth_rotation(epc)\n",
    "\n",
    "    # Create Earth's Angular Rotation Vector\n",
    "    omega_vec = np.array([0, 0, bh.constants.OMEGA_EARTH]) # Neglect LOD effect\n",
    "\n",
    "    # Calculate ECEF State\n",
    "    x_eci[0:3] = ( rot ).T @ r_ecef\n",
    "    # x_eci[0:3] = (pm @ rot @ bpn).T @ r_ecef\n",
    "\n",
    "    if dim_x >= 6:\n",
    "        x_eci[3:6] = (rot ).T @ (v_ecef + bh.utils.fcross(omega_vec, r_ecef))\n",
    "\n",
    "    return x_eci\n",
    "\n",
    "bh.frames.sECEFtoECI = sECEFtoECIpatch"
   ]
  },
  {
   "cell_type": "code",
   "execution_count": 5,
   "metadata": {},
   "outputs": [
    {
     "ename": "NameError",
     "evalue": "name 'bh' is not defined",
     "output_type": "error",
     "traceback": [
      "\u001b[1;31m---------------------------------------------------------------------------\u001b[0m",
      "\u001b[1;31mNameError\u001b[0m                                 Traceback (most recent call last)",
      "Cell \u001b[1;32mIn[5], line 7\u001b[0m\n\u001b[0;32m      1\u001b[0m \u001b[38;5;66;03m# Here we can download the latest Earth orientation data and load it.\u001b[39;00m\n\u001b[0;32m      2\u001b[0m \n\u001b[0;32m      3\u001b[0m \u001b[38;5;66;03m# Uncomment this line ONCE the data has been downloaded. Recomment it once it has been downloaded.\u001b[39;00m\n\u001b[0;32m      4\u001b[0m \u001b[38;5;66;03m# bh.utils.download_iers_bulletin_ab()\u001b[39;00m\n\u001b[0;32m      5\u001b[0m \n\u001b[0;32m      6\u001b[0m \u001b[38;5;66;03m# Load the latest Earth Orientation Data\u001b[39;00m\n\u001b[1;32m----> 7\u001b[0m \u001b[43mbh\u001b[49m\u001b[38;5;241m.\u001b[39mEOP\u001b[38;5;241m.\u001b[39mload(\u001b[38;5;124m'\u001b[39m\u001b[38;5;124miau2000A_finals_ab.txt\u001b[39m\u001b[38;5;124m'\u001b[39m)\n",
      "\u001b[1;31mNameError\u001b[0m: name 'bh' is not defined"
     ]
    }
   ],
   "source": [
    "# Here we can download the latest Earth orientation data and load it.\n",
    "\n",
    "# Uncomment this line ONCE the data has been downloaded. Recomment it once it has been downloaded.\n",
    "# bh.utils.download_iers_bulletin_ab()\n",
    "\n",
    "# Load the latest Earth Orientation Data\n",
    "bh.EOP.load('iau2000A_finals_ab.txt')"
   ]
  },
  {
   "cell_type": "code",
   "execution_count": 7,
   "metadata": {},
   "outputs": [
    {
     "name": "stdout",
     "output_type": "stream",
     "text": [
      "Epoch: 2021-01-01 00:00:00.000 UTC\n",
      "Epoch One Day Later: 2021-01-02 00:00:00.000 UTC\n"
     ]
    }
   ],
   "source": [
    "# Working with Time\n",
    "\n",
    "# Brahe uses the `Epoch` class to represent time. It operates incredibly similarly to the `Epoch` class of `SatelliteDynamics.jl` in Julia.\n",
    "\n",
    "# Define a new Epoch\n",
    "epc = bh.Epoch(2021, 1, 1, 0, 0, 0)\n",
    "\n",
    "print(f'Epoch: {epc}')\n",
    "\n",
    "# We can also add time to an epoch. The time is always in seconds.\n",
    "\n",
    "epc += 86400 # one day propogation\n",
    "\n",
    "print(f'Epoch One Day Later: {epc}')"
   ]
  },
  {
   "cell_type": "code",
   "execution_count": 29,
   "metadata": {},
   "outputs": [
    {
     "name": "stdout",
     "output_type": "stream",
     "text": [
      "Our TLE looks like:\n",
      " 1 99999U          24141.00000000  .00000000  00000-0  00000-0 0    00\n",
      " 2 99999  53.0000  15.0000 0100000  30.0000  45.0000 15.05490874    07\n",
      "\n",
      "ECI State at 2024-05-21 00:00:00.000 UTC:\n",
      "[-1.76849605e+06  3.84803322e+06  5.43757951e+06 -7.30514027e+03\n",
      " -1.98709720e+03 -8.79838269e+02]\n",
      "\n",
      "ECEF State at 2024-05-21 00:00:00.000 UTC:\n",
      "[-2.37634327e+06 -3.50541447e+06  5.43757951e+06  5.22684123e+03\n",
      " -5.04746724e+03 -8.79838269e+02]\n",
      "\n",
      "Lat Lon Alt at 2024-05-21 00:00:00.000 UTC: Lon: -124.13 Lat: 52.26 Alt (m): 527381.02\n",
      "\n"
     ]
    }
   ],
   "source": [
    "# Working with Satellite State\n",
    "\n",
    "# The TLE is likely the most accessible way for you to propagate the satellite state. Brahe has a built-in TLE parser that can be used to load TLEs from lines. \n",
    "# However to make it easier, we define a function to create a TLE from orbital elements.\n",
    "\n",
    "def get_tle(epc0, alt, ecc, inc, raan, argp, M, ndt2=0.0, nddt6=0.0, bstar=0.0, norad_id=99999):\n",
    "    '''Get a TLE object from the given orbital elements\n",
    "\n",
    "    Args:\n",
    "    - epc0 (Epoch): Epoch of the orbital elements / state\n",
    "    - alt (float): Altitude of the orbit [km]\n",
    "    - ecc (float): Eccentricity of the orbit\n",
    "    - inc (float): Inclination of the orbit [deg]\n",
    "    - raan (float): Right Ascension of the Ascending Node [deg]\n",
    "    - argp (float): Argument of Perigee [deg]\n",
    "    - M (float): Mean Anomaly [deg]\n",
    "\n",
    "    Returns:\n",
    "    - tle (TLE): TLE object for the given orbital elements\n",
    "    '''\n",
    "\n",
    "    alt *= 1e3 # Convert to meters\n",
    "\n",
    "    # Get semi-major axis\n",
    "    sma = bh.R_EARTH + alt\n",
    "\n",
    "    # Get mean motion\n",
    "    n = bh.mean_motion(sma)/(2*np.pi)*86400\n",
    "\n",
    "    tle_string = bh.tle_string_from_elements(epc0, np.array([n, ecc, inc, raan, argp, M, ndt2, nddt6, bstar]), norad_id)\n",
    "    tle = bh.TLE(*tle_string)\n",
    "    return tle\n",
    "\n",
    "# Now we can create a TLE\n",
    "\n",
    "epc0 = bh.Epoch(2024, 5, 20, 0, 0, 0) # This is the epoch of the orbital elements\n",
    "alt  = 550 # Altitude in km\n",
    "ecc  = 0.01 # Eccentricity - Generally don't want it to be 0, so give it a small value 0.0001 to 0.01\n",
    "inc  = 53 # Inclination in degrees\n",
    "raan = 15 # Right Ascension of the Ascending Node in degrees\n",
    "argp = 30 # Argument of Perigee in degrees\n",
    "M    = 45 # Mean Anomaly in degrees\n",
    "norad_id = 99999 # NORAD ID of the satellite - This is just a placeholder, but we need a number.\n",
    "\n",
    "tle = get_tle(epc0, alt, ecc, inc, raan, argp, M, norad_id=norad_id)\n",
    "\n",
    "print(f'Our TLE looks like:\\n {tle.line1}\\n {tle.line2}\\n')\n",
    "\n",
    "# We can now use the TLE to get the state at different epochs.\n",
    "\n",
    "t = epc0 + 86400 # One day later\n",
    "x_eci = tle.state_eci(t) # Get the ECI state one day later\n",
    "print(f'ECI State at {t}:\\n{x_eci}\\n')\n",
    "\n",
    "x_ecef = tle.state_ecef(t) # Get the ECEF state one day later\n",
    "print(f'ECEF State at {t}:\\n{x_ecef}\\n')\n",
    "\n",
    "# Get the Lat Lon Alt of the satellite\n",
    "x_geod = bh.sECEFtoGEOD(x_ecef[0:3], use_degrees=True) # Need the array slice to get only the position\n",
    "print(f'Lat Lon Alt at {t}: Lon: {x_geod[0]:.2f} Lat: {x_geod[1]:.2f} Alt (m): {x_geod[2]:.2f}\\n')"
   ]
  },
  {
   "cell_type": "code",
   "execution_count": 3,
   "metadata": {},
   "outputs": [
    {
     "ename": "NameError",
     "evalue": "name 'alt' is not defined",
     "output_type": "error",
     "traceback": [
      "\u001b[1;31m---------------------------------------------------------------------------\u001b[0m",
      "\u001b[1;31mNameError\u001b[0m                                 Traceback (most recent call last)",
      "Cell \u001b[1;32mIn[3], line 32\u001b[0m\n\u001b[0;32m     25\u001b[0m \u001b[38;5;66;03m# Now we can plot what a satellite can see from a given altitude\u001b[39;00m\n\u001b[0;32m     26\u001b[0m \u001b[38;5;66;03m# Let's say we want to see what a satellite at 525 km can see if all observers\u001b[39;00m\n\u001b[0;32m     27\u001b[0m \u001b[38;5;66;03m# are looking at it with at least 20 degrees elevation angle. This is an appropriate\u001b[39;00m\n\u001b[0;32m     28\u001b[0m \u001b[38;5;66;03m# Value for a communications (Starlink/Kuiper) user terminal. If you wanted to get\u001b[39;00m\n\u001b[0;32m     29\u001b[0m \u001b[38;5;66;03m# the maximum possible coverage limited by the Earth's curvature, you would use 0 degrees.\u001b[39;00m\n\u001b[0;32m     31\u001b[0m elevation_min \u001b[38;5;241m=\u001b[39m \u001b[38;5;241m20.0\u001b[39m\n\u001b[1;32m---> 32\u001b[0m lam \u001b[38;5;241m=\u001b[39m compute_earth_interior_angle(ele\u001b[38;5;241m=\u001b[39melevation_min, alt\u001b[38;5;241m=\u001b[39m\u001b[43malt\u001b[49m)\n\u001b[0;32m     34\u001b[0m \u001b[38;5;66;03m# Get the satellite position from above\u001b[39;00m\n\u001b[0;32m     35\u001b[0m x_ecef \u001b[38;5;241m=\u001b[39m tle\u001b[38;5;241m.\u001b[39mstate_ecef(t) \u001b[38;5;66;03m# Get the ECEF state one day later\u001b[39;00m\n",
      "\u001b[1;31mNameError\u001b[0m: name 'alt' is not defined"
     ]
    }
   ],
   "source": [
    "# Now we want to play around with some plotting\n",
    "\n",
    "def compute_earth_interior_angle(ele=0.0, alt=525):\n",
    "    '''This function computes the earth interior angle for a given elevation angle and altitude.\n",
    "    This is the angle between the satellite and the observer on the Earth's surface viewing the satellite\n",
    "    at the given elevation angle. This is more useful for plotting than the look angle, since it\n",
    "    can used alonside Earth's Radius to draw a circle around the subsatellite point to get\n",
    "    the view cone of observers on the Earth's surface that would be able to see the satellite.\n",
    "\n",
    "\n",
    "    Args:\n",
    "    - ele (float): Elevation angle of the satellite [deg]\n",
    "    - alt (float): Altitude of the satellite [km]\n",
    "\n",
    "    '''\n",
    "    ele = ele * math.pi / 180.0\n",
    "\n",
    "    rho = math.asin(bh.R_EARTH/(bh.R_EARTH + alt * 1e3))\n",
    "\n",
    "    eta = math.asin(math.cos(ele)*math.sin(rho))\n",
    "    lam = math.pi/2.0 - eta - ele\n",
    "\n",
    "    return lam\n",
    "\n",
    "# Now we can plot what a satellite can see from a given altitude\n",
    "# Let's say we want to see what a satellite at 525 km can see if all observers\n",
    "# are looking at it with at least 20 degrees elevation angle. This is an appropriate\n",
    "# Value for a communications (Starlink/Kuiper) user terminal. If you wanted to get\n",
    "# the maximum possible coverage limited by the Earth's curvature, you would use 0 degrees.\n",
    "\n",
    "elevation_min = 20.0\n",
    "lam = compute_earth_interior_angle(ele=elevation_min, alt=alt)\n",
    "\n",
    "# Get the satellite position from above\n",
    "x_ecef = tle.state_ecef(t) # Get the ECEF state one day later\n",
    "x_geod = bh.sECEFtoGEOD(x_ecef[0:3], use_degrees=True) # Need the array slice to get only the position\n",
    "lon, lat = x_geod[0], x_geod[1]\n",
    "\n",
    "# Create the figure\n",
    "fig = plt.figure(figsize=(10,5))\n",
    "ax = plt.axes(projection=ccrs.PlateCarree())\n",
    "ax.set_global()\n",
    "ax.stock_img()\n",
    "c = 'b' # Set the plot color\n",
    "\n",
    "# Plot Groundstation Location\n",
    "ax.plot(lon, lat, color=c, marker='o', markersize=3, transform=ccrs.Geodetic())\n",
    "\n",
    "# Get a bunch of points in a circle space at the the right angle offset from the sub-satellite point to draw the view cone\n",
    "circle_points = cartopy.geodesic.Geodesic().circle(lon=lon, lat=lat, radius=lam*bh.R_EARTH, n_samples=100, endpoint=False)\n",
    "geom = shapely.geometry.Polygon(circle_points)\n",
    "ax.add_geometries((geom,), crs=ccrs.Geodetic(), facecolor=c, alpha=0.5, edgecolor='none', linewidth=0)\n",
    "\n",
    "plt.show()"
   ]
  },
  {
   "cell_type": "code",
   "execution_count": null,
   "metadata": {},
   "outputs": [],
   "source": []
  }
 ],
 "metadata": {
  "kernelspec": {
   "display_name": "scratch",
   "language": "python",
   "name": "python3"
  },
  "language_info": {
   "codemirror_mode": {
    "name": "ipython",
    "version": 3
   },
   "file_extension": ".py",
   "mimetype": "text/x-python",
   "name": "python",
   "nbconvert_exporter": "python",
   "pygments_lexer": "ipython3",
   "version": "3.12.0"
  }
 },
 "nbformat": 4,
 "nbformat_minor": 2
}
